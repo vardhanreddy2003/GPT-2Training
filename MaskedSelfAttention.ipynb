{
  "nbformat": 4,
  "nbformat_minor": 0,
  "metadata": {
    "colab": {
      "provenance": [],
      "authorship_tag": "ABX9TyN6EVCsuu4v/Ap0NxCyd883",
      "include_colab_link": true
    },
    "kernelspec": {
      "name": "python3",
      "display_name": "Python 3"
    },
    "language_info": {
      "name": "python"
    }
  },
  "cells": [
    {
      "cell_type": "markdown",
      "metadata": {
        "id": "view-in-github",
        "colab_type": "text"
      },
      "source": [
        "<a href=\"https://colab.research.google.com/github/vardhanreddy2003/GPT-2Training/blob/main/MaskedSelfAttention.ipynb\" target=\"_parent\"><img src=\"https://colab.research.google.com/assets/colab-badge.svg\" alt=\"Open In Colab\"/></a>"
      ]
    },
    {
      "cell_type": "code",
      "execution_count": null,
      "metadata": {
        "id": "TKded0U3BXBr"
      },
      "outputs": [],
      "source": [
        "import torch"
      ]
    },
    {
      "cell_type": "code",
      "source": [
        "inputs=torch.rand(512,64)"
      ],
      "metadata": {
        "id": "dZy00TXuBav1"
      },
      "execution_count": null,
      "outputs": []
    },
    {
      "cell_type": "code",
      "source": [
        "inputs.shape"
      ],
      "metadata": {
        "colab": {
          "base_uri": "https://localhost:8080/"
        },
        "id": "W78j1Wc3By_C",
        "outputId": "95113933-3ec2-4446-a026-ddf9fcfac8c6"
      },
      "execution_count": null,
      "outputs": [
        {
          "output_type": "execute_result",
          "data": {
            "text/plain": [
              "torch.Size([512, 64])"
            ]
          },
          "metadata": {},
          "execution_count": 3
        }
      ]
    },
    {
      "cell_type": "code",
      "source": [
        "query_m=torch.rand(64,64)\n",
        "key_m=torch.rand(64,64)\n",
        "value_m=torch.rand(64,64)"
      ],
      "metadata": {
        "id": "J6G4RWPOB2-g"
      },
      "execution_count": null,
      "outputs": []
    },
    {
      "cell_type": "code",
      "source": [
        "query_i=inputs@query_m\n",
        "key_i=inputs@key_m\n",
        "value_i=inputs@value_m\n",
        "print(query_i.shape)"
      ],
      "metadata": {
        "colab": {
          "base_uri": "https://localhost:8080/"
        },
        "id": "rk0Gte1wCF_p",
        "outputId": "6f6c087d-a8f2-4252-dd21-7c8da8e25776"
      },
      "execution_count": null,
      "outputs": [
        {
          "output_type": "stream",
          "name": "stdout",
          "text": [
            "torch.Size([512, 64])\n"
          ]
        }
      ]
    },
    {
      "cell_type": "code",
      "source": [
        "attn_scores=(query_i.T@key_i)\n",
        "attn_scores.shape"
      ],
      "metadata": {
        "colab": {
          "base_uri": "https://localhost:8080/"
        },
        "id": "Hwi6ot2fCaIO",
        "outputId": "5fbc0365-9f2c-430a-d71f-ecb20c6cfd21"
      },
      "execution_count": null,
      "outputs": [
        {
          "output_type": "execute_result",
          "data": {
            "text/plain": [
              "torch.Size([64, 64])"
            ]
          },
          "metadata": {},
          "execution_count": 6
        }
      ]
    },
    {
      "cell_type": "code",
      "source": [
        "attn_scores"
      ],
      "metadata": {
        "colab": {
          "base_uri": "https://localhost:8080/"
        },
        "id": "Xz_VE_RGDLU8",
        "outputId": "3d5bc452-2dcd-4387-8a18-c6753c7d0978"
      },
      "execution_count": null,
      "outputs": [
        {
          "output_type": "execute_result",
          "data": {
            "text/plain": [
              "tensor([[130444.5547, 138133.0469, 131787.6719,  ..., 136132.6875,\n",
              "         140070.0469, 107100.6875],\n",
              "        [130042.5000, 137708.1250, 131325.3125,  ..., 135785.6094,\n",
              "         139600.3906, 106740.4141],\n",
              "        [150633.4062, 159586.5000, 152257.9844,  ..., 157346.1250,\n",
              "         161805.0469, 123808.8828],\n",
              "        ...,\n",
              "        [132960.7656, 140905.0469, 134335.6094,  ..., 138828.0000,\n",
              "         142825.8750, 109213.3281],\n",
              "        [120901.2578, 128128.0234, 122161.4844,  ..., 126217.2812,\n",
              "         129794.6875,  99335.7266],\n",
              "        [135533.9688, 143615.3438, 136955.5625,  ..., 141579.3281,\n",
              "         145647.1719, 111346.9219]])"
            ]
          },
          "metadata": {},
          "execution_count": 7
        }
      ]
    },
    {
      "cell_type": "code",
      "source": [
        "attn_weights=attn_scores/(inputs.shape[-1]**0.5)\n",
        "attn_weights.shape"
      ],
      "metadata": {
        "colab": {
          "base_uri": "https://localhost:8080/"
        },
        "id": "KI59aO1_C6It",
        "outputId": "6ed3bee2-6c3f-43b8-d34e-cb02f7745368"
      },
      "execution_count": null,
      "outputs": [
        {
          "output_type": "execute_result",
          "data": {
            "text/plain": [
              "torch.Size([64, 64])"
            ]
          },
          "metadata": {},
          "execution_count": 8
        }
      ]
    },
    {
      "cell_type": "code",
      "source": [
        "context_values=attn_weights@value_i.T\n",
        "context_values=context_values.T\n",
        "context_values.shape"
      ],
      "metadata": {
        "colab": {
          "base_uri": "https://localhost:8080/"
        },
        "id": "6GQFS_7MDhCT",
        "outputId": "e78af127-8d13-47c9-e6e5-782dbdf7a088"
      },
      "execution_count": null,
      "outputs": [
        {
          "output_type": "execute_result",
          "data": {
            "text/plain": [
              "torch.Size([512, 64])"
            ]
          },
          "metadata": {},
          "execution_count": 9
        }
      ]
    },
    {
      "cell_type": "code",
      "source": [
        "torch.ones(context_values[0].shape[0], 64)"
      ],
      "metadata": {
        "colab": {
          "base_uri": "https://localhost:8080/"
        },
        "id": "hYlG3hXND3nF",
        "outputId": "2f2ccfe0-f080-4000-f25c-531cdd11afd3"
      },
      "execution_count": null,
      "outputs": [
        {
          "output_type": "execute_result",
          "data": {
            "text/plain": [
              "tensor([[1., 1., 1.,  ..., 1., 1., 1.],\n",
              "        [1., 1., 1.,  ..., 1., 1., 1.],\n",
              "        [1., 1., 1.,  ..., 1., 1., 1.],\n",
              "        ...,\n",
              "        [1., 1., 1.,  ..., 1., 1., 1.],\n",
              "        [1., 1., 1.,  ..., 1., 1., 1.],\n",
              "        [1., 1., 1.,  ..., 1., 1., 1.]])"
            ]
          },
          "metadata": {},
          "execution_count": 10
        }
      ]
    },
    {
      "cell_type": "code",
      "source": [
        "mask_simple=torch.tril(torch.ones(64,64))\n",
        "mask_simple"
      ],
      "metadata": {
        "colab": {
          "base_uri": "https://localhost:8080/"
        },
        "id": "-LY9lkAgIYOZ",
        "outputId": "9c1a8651-78cd-4845-dc5a-3fcf0adc5d7c"
      },
      "execution_count": null,
      "outputs": [
        {
          "output_type": "execute_result",
          "data": {
            "text/plain": [
              "tensor([[1., 0., 0.,  ..., 0., 0., 0.],\n",
              "        [1., 1., 0.,  ..., 0., 0., 0.],\n",
              "        [1., 1., 1.,  ..., 0., 0., 0.],\n",
              "        ...,\n",
              "        [1., 1., 1.,  ..., 1., 0., 0.],\n",
              "        [1., 1., 1.,  ..., 1., 1., 0.],\n",
              "        [1., 1., 1.,  ..., 1., 1., 1.]])"
            ]
          },
          "metadata": {},
          "execution_count": 11
        }
      ]
    },
    {
      "cell_type": "code",
      "source": [
        "masked_attention=attn_weights*mask_simple\n",
        "masked_attention"
      ],
      "metadata": {
        "colab": {
          "base_uri": "https://localhost:8080/"
        },
        "id": "V0PQP1zrJC8K",
        "outputId": "b9e12545-de5c-4ef8-a59f-40c4330b8dea"
      },
      "execution_count": null,
      "outputs": [
        {
          "output_type": "execute_result",
          "data": {
            "text/plain": [
              "tensor([[16305.5693,     0.0000,     0.0000,  ...,     0.0000,     0.0000,\n",
              "             0.0000],\n",
              "        [16255.3125, 17213.5156,     0.0000,  ...,     0.0000,     0.0000,\n",
              "             0.0000],\n",
              "        [18829.1758, 19948.3125, 19032.2480,  ...,     0.0000,     0.0000,\n",
              "             0.0000],\n",
              "        ...,\n",
              "        [16620.0957, 17613.1309, 16791.9512,  ..., 17353.5000,     0.0000,\n",
              "             0.0000],\n",
              "        [15112.6572, 16016.0029, 15270.1855,  ..., 15777.1602, 16224.3359,\n",
              "             0.0000],\n",
              "        [16941.7461, 17951.9180, 17119.4453,  ..., 17697.4160, 18205.8965,\n",
              "         13918.3652]])"
            ]
          },
          "metadata": {},
          "execution_count": 12
        }
      ]
    },
    {
      "cell_type": "code",
      "source": [
        "row_sums=masked_attention.sum(dim=1,keepdim=True)\n",
        "masked_attention_norm=masked_attention/row_sums\n",
        "masked_attention_norm"
      ],
      "metadata": {
        "colab": {
          "base_uri": "https://localhost:8080/"
        },
        "id": "Zd-1rYOEJNsP",
        "outputId": "0fe93648-5784-48ee-c761-c587e9e7c6a7"
      },
      "execution_count": null,
      "outputs": [
        {
          "output_type": "execute_result",
          "data": {
            "text/plain": [
              "tensor([[1.0000, 0.0000, 0.0000,  ..., 0.0000, 0.0000, 0.0000],\n",
              "        [0.4857, 0.5143, 0.0000,  ..., 0.0000, 0.0000, 0.0000],\n",
              "        [0.3257, 0.3451, 0.3292,  ..., 0.0000, 0.0000, 0.0000],\n",
              "        ...,\n",
              "        [0.0157, 0.0166, 0.0158,  ..., 0.0164, 0.0000, 0.0000],\n",
              "        [0.0154, 0.0163, 0.0156,  ..., 0.0161, 0.0165, 0.0000],\n",
              "        [0.0152, 0.0161, 0.0154,  ..., 0.0159, 0.0164, 0.0125]])"
            ]
          },
          "metadata": {},
          "execution_count": 13
        }
      ]
    },
    {
      "cell_type": "markdown",
      "source": [
        "Note:You can't substitute 0 in upper triangular matrix because its exponent value will not become 0 during softmax.So,we use -infinite so when we do softmax its value gets 0.\n"
      ],
      "metadata": {
        "id": "TWYj-0orKcBk"
      }
    },
    {
      "cell_type": "code",
      "source": [
        "mask=torch.triu(torch.ones(64,64),diagonal=1)\n",
        "print(mask)"
      ],
      "metadata": {
        "colab": {
          "base_uri": "https://localhost:8080/"
        },
        "id": "AtmEXEThLBqT",
        "outputId": "481f3cc1-b09b-41ac-e4c6-767bb524b88b"
      },
      "execution_count": null,
      "outputs": [
        {
          "output_type": "stream",
          "name": "stdout",
          "text": [
            "tensor([[0., 1., 1.,  ..., 1., 1., 1.],\n",
            "        [0., 0., 1.,  ..., 1., 1., 1.],\n",
            "        [0., 0., 0.,  ..., 1., 1., 1.],\n",
            "        ...,\n",
            "        [0., 0., 0.,  ..., 0., 1., 1.],\n",
            "        [0., 0., 0.,  ..., 0., 0., 1.],\n",
            "        [0., 0., 0.,  ..., 0., 0., 0.]])\n"
          ]
        }
      ]
    },
    {
      "cell_type": "code",
      "source": [
        "attn_weights"
      ],
      "metadata": {
        "colab": {
          "base_uri": "https://localhost:8080/"
        },
        "id": "lE3xw7qtMHxU",
        "outputId": "0137db52-afbe-4429-cdd3-15e1cf0c0713"
      },
      "execution_count": null,
      "outputs": [
        {
          "output_type": "execute_result",
          "data": {
            "text/plain": [
              "tensor([[16305.5693, 17266.6309, 16473.4590,  ..., 17016.5859, 17508.7559,\n",
              "         13387.5859],\n",
              "        [16255.3125, 17213.5156, 16415.6641,  ..., 16973.2012, 17450.0488,\n",
              "         13342.5518],\n",
              "        [18829.1758, 19948.3125, 19032.2480,  ..., 19668.2656, 20225.6309,\n",
              "         15476.1104],\n",
              "        ...,\n",
              "        [16620.0957, 17613.1309, 16791.9512,  ..., 17353.5000, 17853.2344,\n",
              "         13651.6660],\n",
              "        [15112.6572, 16016.0029, 15270.1855,  ..., 15777.1602, 16224.3359,\n",
              "         12416.9658],\n",
              "        [16941.7461, 17951.9180, 17119.4453,  ..., 17697.4160, 18205.8965,\n",
              "         13918.3652]])"
            ]
          },
          "metadata": {},
          "execution_count": 15
        }
      ]
    },
    {
      "cell_type": "code",
      "source": [
        "masked_attn_weights=attn_weights.masked_fill(mask.bool(),-torch.inf)\n",
        "print(masked_attn_weights)"
      ],
      "metadata": {
        "colab": {
          "base_uri": "https://localhost:8080/"
        },
        "id": "FKk1GGRtMY3E",
        "outputId": "42e97e13-f12e-41e1-c96c-7adc6c7d3d35"
      },
      "execution_count": null,
      "outputs": [
        {
          "output_type": "stream",
          "name": "stdout",
          "text": [
            "tensor([[16305.5693,       -inf,       -inf,  ...,       -inf,       -inf,\n",
            "               -inf],\n",
            "        [16255.3125, 17213.5156,       -inf,  ...,       -inf,       -inf,\n",
            "               -inf],\n",
            "        [18829.1758, 19948.3125, 19032.2480,  ...,       -inf,       -inf,\n",
            "               -inf],\n",
            "        ...,\n",
            "        [16620.0957, 17613.1309, 16791.9512,  ..., 17353.5000,       -inf,\n",
            "               -inf],\n",
            "        [15112.6572, 16016.0029, 15270.1855,  ..., 15777.1602, 16224.3359,\n",
            "               -inf],\n",
            "        [16941.7461, 17951.9180, 17119.4453,  ..., 17697.4160, 18205.8965,\n",
            "         13918.3652]])\n"
          ]
        }
      ]
    },
    {
      "cell_type": "code",
      "source": [
        "at= torch.softmax(masked_attn_weights,dim=1)\n",
        "print(at)"
      ],
      "metadata": {
        "colab": {
          "base_uri": "https://localhost:8080/"
        },
        "id": "pPzHqJJYOZkm",
        "outputId": "1594bed3-3138-44e7-b321-bf6a4bc1bac3"
      },
      "execution_count": null,
      "outputs": [
        {
          "output_type": "stream",
          "name": "stdout",
          "text": [
            "tensor([[1., 0., 0.,  ..., 0., 0., 0.],\n",
            "        [0., 1., 0.,  ..., 0., 0., 0.],\n",
            "        [0., 1., 0.,  ..., 0., 0., 0.],\n",
            "        ...,\n",
            "        [0., 0., 0.,  ..., 0., 0., 0.],\n",
            "        [0., 0., 0.,  ..., 0., 0., 0.],\n",
            "        [0., 0., 0.,  ..., 0., 0., 0.]])\n"
          ]
        }
      ]
    },
    {
      "cell_type": "markdown",
      "source": [
        "Note :The values that I have taken are very large so softmax results are not that efficient\n"
      ],
      "metadata": {
        "id": "WMVzRwH0QT4G"
      }
    },
    {
      "cell_type": "code",
      "source": [
        "inputs.shape"
      ],
      "metadata": {
        "colab": {
          "base_uri": "https://localhost:8080/"
        },
        "id": "l235VlRVtUcs",
        "outputId": "d9f8d15d-1156-4075-f7d2-fb058dc3fa7f"
      },
      "execution_count": null,
      "outputs": [
        {
          "output_type": "execute_result",
          "data": {
            "text/plain": [
              "torch.Size([512, 64])"
            ]
          },
          "metadata": {},
          "execution_count": 19
        }
      ]
    },
    {
      "cell_type": "code",
      "source": [
        "import torch.nn as nn"
      ],
      "metadata": {
        "id": "gekMMk2SuCVI"
      },
      "execution_count": null,
      "outputs": []
    },
    {
      "cell_type": "code",
      "source": [
        "d_in=64\n",
        "d_out=64\n",
        "query_w=nn.Linear(d_in,d_out,bias=False)\n",
        "key_w=nn.Linear(d_in,d_out,bias=False)\n",
        "value_w=nn.Linear(d_in,d_out,bias=False)"
      ],
      "metadata": {
        "id": "hw3EodKqt6tO"
      },
      "execution_count": null,
      "outputs": []
    },
    {
      "cell_type": "code",
      "source": [
        "queries=query_w(inputs)\n",
        "keys=key_w(inputs)\n",
        "values=value_w(inputs)"
      ],
      "metadata": {
        "id": "mZ__HlSou-mC"
      },
      "execution_count": null,
      "outputs": []
    },
    {
      "cell_type": "code",
      "source": [
        "print(queries.shape)\n",
        "print(keys.shape)"
      ],
      "metadata": {
        "colab": {
          "base_uri": "https://localhost:8080/"
        },
        "id": "6pajtqLxwWC8",
        "outputId": "b4ac1a9e-c956-497e-a65c-4fa5f2eea913"
      },
      "execution_count": null,
      "outputs": [
        {
          "output_type": "stream",
          "name": "stdout",
          "text": [
            "torch.Size([512, 64])\n",
            "torch.Size([512, 64])\n"
          ]
        }
      ]
    },
    {
      "cell_type": "code",
      "source": [
        "attn_scores=queries@keys.T\n",
        "attn_scores.shape"
      ],
      "metadata": {
        "colab": {
          "base_uri": "https://localhost:8080/"
        },
        "id": "Oq7-2UlQwpk2",
        "outputId": "0f3c55e4-79f9-45c1-beff-094a16d11aab"
      },
      "execution_count": null,
      "outputs": [
        {
          "output_type": "execute_result",
          "data": {
            "text/plain": [
              "torch.Size([512, 512])"
            ]
          },
          "metadata": {},
          "execution_count": 77
        }
      ]
    },
    {
      "cell_type": "code",
      "source": [
        "va=attn_scores@values"
      ],
      "metadata": {
        "id": "dkRH81NK6mYR"
      },
      "execution_count": null,
      "outputs": []
    },
    {
      "cell_type": "code",
      "source": [
        "va.shape"
      ],
      "metadata": {
        "colab": {
          "base_uri": "https://localhost:8080/"
        },
        "id": "YYk6XB966sTi",
        "outputId": "5254aa31-cf49-4134-e9ce-7688b5040a7d"
      },
      "execution_count": null,
      "outputs": [
        {
          "output_type": "execute_result",
          "data": {
            "text/plain": [
              "torch.Size([512, 64])"
            ]
          },
          "metadata": {},
          "execution_count": 82
        }
      ]
    },
    {
      "cell_type": "code",
      "source": [
        "attn_weights=torch.softmax(attn_scores/keys.shape[-1]**0.5,dim=-1)"
      ],
      "metadata": {
        "id": "WM4veOZRwxpJ"
      },
      "execution_count": null,
      "outputs": []
    },
    {
      "cell_type": "code",
      "source": [
        "attn_weights[0]"
      ],
      "metadata": {
        "colab": {
          "base_uri": "https://localhost:8080/"
        },
        "id": "N4yFPgjQy4xg",
        "outputId": "bf0cd17b-35bd-43c0-e4ce-ef111fcf67db"
      },
      "execution_count": null,
      "outputs": [
        {
          "output_type": "execute_result",
          "data": {
            "text/plain": [
              "tensor([0.0018, 0.0020, 0.0020, 0.0020, 0.0020, 0.0019, 0.0019, 0.0020, 0.0021,\n",
              "        0.0019, 0.0020, 0.0022, 0.0020, 0.0019, 0.0019, 0.0019, 0.0019, 0.0019,\n",
              "        0.0021, 0.0021, 0.0018, 0.0018, 0.0020, 0.0019, 0.0019, 0.0018, 0.0018,\n",
              "        0.0019, 0.0020, 0.0019, 0.0021, 0.0021, 0.0018, 0.0019, 0.0021, 0.0020,\n",
              "        0.0019, 0.0020, 0.0019, 0.0019, 0.0019, 0.0019, 0.0020, 0.0020, 0.0020,\n",
              "        0.0020, 0.0020, 0.0017, 0.0019, 0.0018, 0.0020, 0.0019, 0.0020, 0.0020,\n",
              "        0.0020, 0.0020, 0.0019, 0.0020, 0.0020, 0.0020, 0.0020, 0.0020, 0.0020,\n",
              "        0.0019, 0.0020, 0.0020, 0.0020, 0.0020, 0.0021, 0.0019, 0.0018, 0.0020,\n",
              "        0.0020, 0.0020, 0.0019, 0.0018, 0.0019, 0.0020, 0.0019, 0.0018, 0.0019,\n",
              "        0.0018, 0.0019, 0.0019, 0.0020, 0.0019, 0.0018, 0.0020, 0.0020, 0.0020,\n",
              "        0.0019, 0.0020, 0.0019, 0.0020, 0.0021, 0.0021, 0.0020, 0.0020, 0.0020,\n",
              "        0.0019, 0.0020, 0.0021, 0.0020, 0.0019, 0.0020, 0.0019, 0.0018, 0.0019,\n",
              "        0.0019, 0.0020, 0.0020, 0.0021, 0.0020, 0.0018, 0.0019, 0.0019, 0.0018,\n",
              "        0.0020, 0.0019, 0.0020, 0.0020, 0.0019, 0.0021, 0.0019, 0.0020, 0.0020,\n",
              "        0.0020, 0.0020, 0.0019, 0.0020, 0.0019, 0.0019, 0.0019, 0.0021, 0.0020,\n",
              "        0.0019, 0.0020, 0.0021, 0.0019, 0.0021, 0.0018, 0.0019, 0.0019, 0.0021,\n",
              "        0.0020, 0.0020, 0.0019, 0.0020, 0.0018, 0.0020, 0.0019, 0.0019, 0.0019,\n",
              "        0.0021, 0.0020, 0.0019, 0.0020, 0.0018, 0.0020, 0.0019, 0.0019, 0.0021,\n",
              "        0.0018, 0.0020, 0.0021, 0.0020, 0.0019, 0.0020, 0.0020, 0.0019, 0.0020,\n",
              "        0.0019, 0.0020, 0.0020, 0.0020, 0.0019, 0.0020, 0.0021, 0.0019, 0.0020,\n",
              "        0.0019, 0.0021, 0.0021, 0.0017, 0.0019, 0.0019, 0.0020, 0.0020, 0.0019,\n",
              "        0.0020, 0.0020, 0.0020, 0.0019, 0.0019, 0.0020, 0.0020, 0.0020, 0.0019,\n",
              "        0.0020, 0.0021, 0.0020, 0.0021, 0.0019, 0.0020, 0.0018, 0.0018, 0.0019,\n",
              "        0.0019, 0.0020, 0.0019, 0.0020, 0.0019, 0.0020, 0.0019, 0.0020, 0.0018,\n",
              "        0.0019, 0.0018, 0.0019, 0.0020, 0.0020, 0.0019, 0.0019, 0.0020, 0.0021,\n",
              "        0.0020, 0.0018, 0.0019, 0.0018, 0.0022, 0.0019, 0.0019, 0.0018, 0.0019,\n",
              "        0.0019, 0.0018, 0.0019, 0.0019, 0.0020, 0.0019, 0.0020, 0.0018, 0.0020,\n",
              "        0.0019, 0.0020, 0.0020, 0.0022, 0.0019, 0.0019, 0.0019, 0.0020, 0.0021,\n",
              "        0.0020, 0.0020, 0.0018, 0.0021, 0.0019, 0.0019, 0.0019, 0.0020, 0.0020,\n",
              "        0.0019, 0.0019, 0.0018, 0.0019, 0.0020, 0.0021, 0.0019, 0.0021, 0.0019,\n",
              "        0.0019, 0.0019, 0.0019, 0.0020, 0.0019, 0.0018, 0.0020, 0.0019, 0.0020,\n",
              "        0.0018, 0.0019, 0.0020, 0.0019, 0.0020, 0.0020, 0.0019, 0.0019, 0.0019,\n",
              "        0.0021, 0.0020, 0.0019, 0.0019, 0.0017, 0.0019, 0.0020, 0.0021, 0.0019,\n",
              "        0.0020, 0.0020, 0.0021, 0.0020, 0.0021, 0.0020, 0.0020, 0.0019, 0.0020,\n",
              "        0.0018, 0.0019, 0.0018, 0.0019, 0.0020, 0.0020, 0.0019, 0.0021, 0.0020,\n",
              "        0.0020, 0.0019, 0.0020, 0.0021, 0.0020, 0.0020, 0.0018, 0.0020, 0.0020,\n",
              "        0.0020, 0.0019, 0.0018, 0.0020, 0.0020, 0.0020, 0.0019, 0.0020, 0.0018,\n",
              "        0.0019, 0.0021, 0.0019, 0.0022, 0.0019, 0.0020, 0.0019, 0.0019, 0.0020,\n",
              "        0.0020, 0.0020, 0.0020, 0.0018, 0.0019, 0.0020, 0.0018, 0.0019, 0.0020,\n",
              "        0.0018, 0.0020, 0.0021, 0.0020, 0.0020, 0.0019, 0.0019, 0.0019, 0.0018,\n",
              "        0.0021, 0.0019, 0.0019, 0.0020, 0.0018, 0.0019, 0.0020, 0.0019, 0.0019,\n",
              "        0.0020, 0.0021, 0.0021, 0.0020, 0.0020, 0.0019, 0.0019, 0.0020, 0.0020,\n",
              "        0.0020, 0.0021, 0.0020, 0.0020, 0.0018, 0.0019, 0.0019, 0.0019, 0.0019,\n",
              "        0.0019, 0.0019, 0.0019, 0.0019, 0.0019, 0.0018, 0.0020, 0.0020, 0.0018,\n",
              "        0.0019, 0.0021, 0.0019, 0.0020, 0.0018, 0.0020, 0.0020, 0.0021, 0.0019,\n",
              "        0.0020, 0.0021, 0.0020, 0.0020, 0.0021, 0.0020, 0.0020, 0.0019, 0.0019,\n",
              "        0.0020, 0.0019, 0.0019, 0.0019, 0.0019, 0.0020, 0.0020, 0.0019, 0.0019,\n",
              "        0.0019, 0.0020, 0.0019, 0.0019, 0.0019, 0.0019, 0.0020, 0.0020, 0.0021,\n",
              "        0.0020, 0.0019, 0.0020, 0.0019, 0.0018, 0.0019, 0.0021, 0.0020, 0.0019,\n",
              "        0.0019, 0.0018, 0.0019, 0.0020, 0.0019, 0.0020, 0.0020, 0.0019, 0.0020,\n",
              "        0.0020, 0.0020, 0.0020, 0.0021, 0.0018, 0.0020, 0.0018, 0.0021, 0.0019,\n",
              "        0.0018, 0.0019, 0.0019, 0.0020, 0.0020, 0.0019, 0.0020, 0.0019, 0.0019,\n",
              "        0.0020, 0.0020, 0.0019, 0.0020, 0.0018, 0.0020, 0.0021, 0.0020, 0.0021,\n",
              "        0.0019, 0.0018, 0.0021, 0.0019, 0.0020, 0.0018, 0.0019, 0.0020, 0.0020,\n",
              "        0.0017, 0.0020, 0.0019, 0.0020, 0.0019, 0.0019, 0.0020, 0.0019, 0.0020,\n",
              "        0.0020, 0.0020, 0.0019, 0.0020, 0.0019, 0.0019, 0.0021, 0.0020, 0.0018,\n",
              "        0.0018, 0.0019, 0.0019, 0.0021, 0.0020, 0.0019, 0.0020, 0.0021],\n",
              "       grad_fn=<SelectBackward0>)"
            ]
          },
          "metadata": {},
          "execution_count": 84
        }
      ]
    },
    {
      "cell_type": "code",
      "source": [
        "context_values=attn_weights@values\n",
        "context_values.shape"
      ],
      "metadata": {
        "colab": {
          "base_uri": "https://localhost:8080/"
        },
        "id": "8H-CJldozO5a",
        "outputId": "6bba7028-cb60-4e12-8c2a-39909acf6dda"
      },
      "execution_count": null,
      "outputs": [
        {
          "output_type": "execute_result",
          "data": {
            "text/plain": [
              "torch.Size([512, 64])"
            ]
          },
          "metadata": {},
          "execution_count": 86
        }
      ]
    },
    {
      "cell_type": "code",
      "source": [
        "class SelfAttention(nn.Module):\n",
        "  def __init__(self,d_in,d_out) -> None:\n",
        "    super().__init__()\n",
        "    self.query_w=nn.Linear(d_in,d_out,bias=False)\n",
        "    self.key_w=nn.Linear(d_in,d_out,bias=False)\n",
        "    self.value_w=nn.Linear(d_in,d_out,bias=False)\n",
        "\n",
        "  def forward(self,inputs):\n",
        "    queries=self.query_w(inputs)\n",
        "    keys=self.key_w(inputs)\n",
        "    values=self.value_w(inputs)\n",
        "\n",
        "    attn_scores=queries@keys.T\n",
        "    attn_weights=torch.softmax(attn_scores/keys.shape[-1]**0.5,dim=-1)\n",
        "    context_values=attn_weights@values\n",
        "    return context_values"
      ],
      "metadata": {
        "id": "bJZrasfw0Kxz"
      },
      "execution_count": null,
      "outputs": []
    },
    {
      "cell_type": "code",
      "source": [
        "sa=SelfAttention(d_in=64,d_out=64)\n",
        "print(sa(inputs).shape)"
      ],
      "metadata": {
        "colab": {
          "base_uri": "https://localhost:8080/"
        },
        "id": "DJGYY-cQ2JHb",
        "outputId": "ede25d56-986a-4559-9b9b-824d2b5ba6e8"
      },
      "execution_count": null,
      "outputs": [
        {
          "output_type": "stream",
          "name": "stdout",
          "text": [
            "torch.Size([512, 64])\n"
          ]
        }
      ]
    },
    {
      "cell_type": "code",
      "source": [
        "mask=torch.triu(torch.ones(d_in,d_out),diagonal=1)\n",
        "print(mask)"
      ],
      "metadata": {
        "colab": {
          "base_uri": "https://localhost:8080/"
        },
        "id": "muu9NPMr31EJ",
        "outputId": "453d39f5-dd19-4ba0-d94d-99f4b85c02fe"
      },
      "execution_count": null,
      "outputs": [
        {
          "output_type": "stream",
          "name": "stdout",
          "text": [
            "tensor([[0., 1., 1.,  ..., 1., 1., 1.],\n",
            "        [0., 0., 1.,  ..., 1., 1., 1.],\n",
            "        [0., 0., 0.,  ..., 1., 1., 1.],\n",
            "        ...,\n",
            "        [0., 0., 0.,  ..., 0., 1., 1.],\n",
            "        [0., 0., 0.,  ..., 0., 0., 1.],\n",
            "        [0., 0., 0.,  ..., 0., 0., 0.]])\n"
          ]
        }
      ]
    },
    {
      "cell_type": "code",
      "source": [
        "class MaskedSelfAttention(nn.Module):\n",
        "  def __init__(self,d_in,d_out) -> None:\n",
        "    super().__init__()\n",
        "    self.query_w=nn.Linear(d_in,d_out,bias=False)\n",
        "    self.key_w=nn.Linear(d_in,d_out,bias=False)\n",
        "    self.value_w=nn.Linear(d_in,d_out,bias=False)\n",
        "\n",
        "  def forward(self,inputs):\n",
        "    queries=self.query_w(inputs)\n",
        "    keys=self.key_w(inputs)\n",
        "    values=self.value_w(inputs)\n",
        "\n",
        "    attn_scores=queries@keys.T\n",
        "    mask=torch.triu(torch.ones(inputs.shape[0],inputs.shape[0]),diagonal=1)\n",
        "    attn_scores=attn_scores.masked_fill(mask.bool(),-torch.inf)\n",
        "    attn_weights=torch.softmax(attn_scores/keys.shape[-1]**0.5,dim=1)\n",
        "    context_values=attn_weights@values\n",
        "    return context_values"
      ],
      "metadata": {
        "id": "wQfuGn_e3iu7"
      },
      "execution_count": null,
      "outputs": []
    },
    {
      "cell_type": "code",
      "source": [
        "sa=MaskedSelfAttention(d_in=64,d_out=64)\n",
        "print(sa(inputs).shape)\n"
      ],
      "metadata": {
        "colab": {
          "base_uri": "https://localhost:8080/"
        },
        "id": "P3RwYkUg4oN2",
        "outputId": "f6934aea-b0af-472c-9049-22d3a1f1611e"
      },
      "execution_count": null,
      "outputs": [
        {
          "output_type": "stream",
          "name": "stdout",
          "text": [
            "torch.Size([512, 64])\n"
          ]
        }
      ]
    }
  ]
}