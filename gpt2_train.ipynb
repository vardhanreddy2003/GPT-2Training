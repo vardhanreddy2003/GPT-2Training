{
  "nbformat": 4,
  "nbformat_minor": 0,
  "metadata": {
    "colab": {
      "provenance": [],
      "gpuType": "T4",
      "authorship_tag": "ABX9TyMxwV3r3Tjkjez8dvdpc2Vi",
      "include_colab_link": true
    },
    "kernelspec": {
      "name": "python3",
      "display_name": "Python 3"
    },
    "language_info": {
      "name": "python"
    },
    "accelerator": "GPU"
  },
  "cells": [
    {
      "cell_type": "markdown",
      "metadata": {
        "id": "view-in-github",
        "colab_type": "text"
      },
      "source": [
        "<a href=\"https://colab.research.google.com/github/vardhanreddy2003/GPT-2Training/blob/main/gpt2_train.ipynb\" target=\"_parent\"><img src=\"https://colab.research.google.com/assets/colab-badge.svg\" alt=\"Open In Colab\"/></a>"
      ]
    },
    {
      "cell_type": "code",
      "source": [
        "!pip install torch\n",
        "!pip install tiktoken"
      ],
      "metadata": {
        "colab": {
          "base_uri": "https://localhost:8080/"
        },
        "id": "8lTO73m5Rkle",
        "outputId": "90bb6379-0508-47d6-e117-8f553987fd2f"
      },
      "execution_count": 28,
      "outputs": [
        {
          "output_type": "stream",
          "name": "stdout",
          "text": [
            "Requirement already satisfied: torch in /usr/local/lib/python3.12/dist-packages (2.8.0+cu126)\n",
            "Requirement already satisfied: filelock in /usr/local/lib/python3.12/dist-packages (from torch) (3.20.0)\n",
            "Requirement already satisfied: typing-extensions>=4.10.0 in /usr/local/lib/python3.12/dist-packages (from torch) (4.15.0)\n",
            "Requirement already satisfied: setuptools in /usr/local/lib/python3.12/dist-packages (from torch) (75.2.0)\n",
            "Requirement already satisfied: sympy>=1.13.3 in /usr/local/lib/python3.12/dist-packages (from torch) (1.13.3)\n",
            "Requirement already satisfied: networkx in /usr/local/lib/python3.12/dist-packages (from torch) (3.5)\n",
            "Requirement already satisfied: jinja2 in /usr/local/lib/python3.12/dist-packages (from torch) (3.1.6)\n",
            "Requirement already satisfied: fsspec in /usr/local/lib/python3.12/dist-packages (from torch) (2025.3.0)\n",
            "Requirement already satisfied: nvidia-cuda-nvrtc-cu12==12.6.77 in /usr/local/lib/python3.12/dist-packages (from torch) (12.6.77)\n",
            "Requirement already satisfied: nvidia-cuda-runtime-cu12==12.6.77 in /usr/local/lib/python3.12/dist-packages (from torch) (12.6.77)\n",
            "Requirement already satisfied: nvidia-cuda-cupti-cu12==12.6.80 in /usr/local/lib/python3.12/dist-packages (from torch) (12.6.80)\n",
            "Requirement already satisfied: nvidia-cudnn-cu12==9.10.2.21 in /usr/local/lib/python3.12/dist-packages (from torch) (9.10.2.21)\n",
            "Requirement already satisfied: nvidia-cublas-cu12==12.6.4.1 in /usr/local/lib/python3.12/dist-packages (from torch) (12.6.4.1)\n",
            "Requirement already satisfied: nvidia-cufft-cu12==11.3.0.4 in /usr/local/lib/python3.12/dist-packages (from torch) (11.3.0.4)\n",
            "Requirement already satisfied: nvidia-curand-cu12==10.3.7.77 in /usr/local/lib/python3.12/dist-packages (from torch) (10.3.7.77)\n",
            "Requirement already satisfied: nvidia-cusolver-cu12==11.7.1.2 in /usr/local/lib/python3.12/dist-packages (from torch) (11.7.1.2)\n",
            "Requirement already satisfied: nvidia-cusparse-cu12==12.5.4.2 in /usr/local/lib/python3.12/dist-packages (from torch) (12.5.4.2)\n",
            "Requirement already satisfied: nvidia-cusparselt-cu12==0.7.1 in /usr/local/lib/python3.12/dist-packages (from torch) (0.7.1)\n",
            "Requirement already satisfied: nvidia-nccl-cu12==2.27.3 in /usr/local/lib/python3.12/dist-packages (from torch) (2.27.3)\n",
            "Requirement already satisfied: nvidia-nvtx-cu12==12.6.77 in /usr/local/lib/python3.12/dist-packages (from torch) (12.6.77)\n",
            "Requirement already satisfied: nvidia-nvjitlink-cu12==12.6.85 in /usr/local/lib/python3.12/dist-packages (from torch) (12.6.85)\n",
            "Requirement already satisfied: nvidia-cufile-cu12==1.11.1.6 in /usr/local/lib/python3.12/dist-packages (from torch) (1.11.1.6)\n",
            "Requirement already satisfied: triton==3.4.0 in /usr/local/lib/python3.12/dist-packages (from torch) (3.4.0)\n",
            "Requirement already satisfied: mpmath<1.4,>=1.1.0 in /usr/local/lib/python3.12/dist-packages (from sympy>=1.13.3->torch) (1.3.0)\n",
            "Requirement already satisfied: MarkupSafe>=2.0 in /usr/local/lib/python3.12/dist-packages (from jinja2->torch) (3.0.3)\n",
            "Requirement already satisfied: tiktoken in /usr/local/lib/python3.12/dist-packages (0.12.0)\n",
            "Requirement already satisfied: regex>=2022.1.18 in /usr/local/lib/python3.12/dist-packages (from tiktoken) (2024.11.6)\n",
            "Requirement already satisfied: requests>=2.26.0 in /usr/local/lib/python3.12/dist-packages (from tiktoken) (2.32.4)\n",
            "Requirement already satisfied: charset_normalizer<4,>=2 in /usr/local/lib/python3.12/dist-packages (from requests>=2.26.0->tiktoken) (3.4.4)\n",
            "Requirement already satisfied: idna<4,>=2.5 in /usr/local/lib/python3.12/dist-packages (from requests>=2.26.0->tiktoken) (3.11)\n",
            "Requirement already satisfied: urllib3<3,>=1.21.1 in /usr/local/lib/python3.12/dist-packages (from requests>=2.26.0->tiktoken) (2.5.0)\n",
            "Requirement already satisfied: certifi>=2017.4.17 in /usr/local/lib/python3.12/dist-packages (from requests>=2.26.0->tiktoken) (2025.10.5)\n"
          ]
        }
      ]
    },
    {
      "cell_type": "code",
      "execution_count": 29,
      "metadata": {
        "id": "PX39RR9mRVnT"
      },
      "outputs": [],
      "source": [
        "import torch\n",
        "from torch.utils.data import Dataset,DataLoader"
      ]
    },
    {
      "cell_type": "code",
      "source": [
        "import torch.nn as nn"
      ],
      "metadata": {
        "id": "LkNAGlRSRcz9"
      },
      "execution_count": 30,
      "outputs": []
    },
    {
      "cell_type": "code",
      "source": [
        "class GPTDataset(Dataset):\n",
        "\n",
        "  def __init__(self,txt,tokenizer,max_length,stride):\n",
        "\n",
        "    self.input_ids=[]\n",
        "    self.output_ids=[]\n",
        "\n",
        "    token_ids = tokenizer.encode(txt, allowed_special={\"<|endoftext|>\"})\n",
        "\n",
        "    for i in range(0,len(token_ids)-max_length,stride):\n",
        "      input_chunk=token_ids[i:i+max_length]\n",
        "      output_chunk=token_ids[i+1:i+max_length+1]\n",
        "\n",
        "      self.input_ids.append(torch.tensor(input_chunk))\n",
        "      self.output_ids.append(torch.tensor(output_chunk))\n",
        "\n",
        "\n",
        "  def __len__(self):\n",
        "    return len(self.input_ids)\n",
        "\n",
        "\n",
        "  def __getitem__(self, idx):\n",
        "    return self.input_ids[idx],self.output_ids[idx]\n",
        "\n",
        "\n"
      ],
      "metadata": {
        "id": "QGnAlYvKRfmG"
      },
      "execution_count": 31,
      "outputs": []
    },
    {
      "cell_type": "code",
      "source": [
        "import tiktoken\n",
        "tokenizer=tiktoken.get_encoding(\"gpt2\")\n"
      ],
      "metadata": {
        "id": "WA7PG6nAR9jd"
      },
      "execution_count": 32,
      "outputs": []
    },
    {
      "cell_type": "code",
      "metadata": {
        "id": "5fe985ca"
      },
      "source": [
        "with open('verdict.txt.txt', 'r') as f:\n",
        "    verdict_text = f.read()"
      ],
      "execution_count": 33,
      "outputs": []
    },
    {
      "cell_type": "code",
      "source": [
        "gpt_config = {\n",
        "    \"vocab_size\":50257,\n",
        "    \"emb_dim\":768,\n",
        "    \"num_heads\":12,\n",
        "    \"dropout_rate\":0.1,\n",
        "    \"qkv_bias\":False,\n",
        "    \"layers\":12,\n",
        "    \"context_length\":512,\n",
        "    \"stride\":128\n",
        "}"
      ],
      "metadata": {
        "id": "88lotSksnfEd"
      },
      "execution_count": 34,
      "outputs": []
    },
    {
      "cell_type": "code",
      "source": [
        "def create_dataloader(text,tokenizer,batch_size,drop_last,gpt_config):\n",
        "\n",
        "  dataset=GPTDataset(verdict_text,tokenizer,gpt_config[\"context_length\"],gpt_config[\"stride\"])\n",
        "  dataloader=DataLoader(dataset,shuffle=True,batch_size=batch_size,drop_last=True)\n",
        "\n",
        "  return dataloader\n"
      ],
      "metadata": {
        "id": "ZQJjQsGiogMm"
      },
      "execution_count": 35,
      "outputs": []
    },
    {
      "cell_type": "code",
      "source": [
        "\n",
        "train_ratio=0.90\n",
        "split_idx=int(train_ratio*(len(verdict_text)))\n",
        "train_data=verdict_text[:split_idx]\n",
        "test_data=verdict_text[split_idx:]"
      ],
      "metadata": {
        "id": "pnfqJyrkpc9R"
      },
      "execution_count": 36,
      "outputs": []
    },
    {
      "cell_type": "code",
      "source": [
        "train_dataloader=create_dataloader(train_data,tokenizer,batch_size=2,drop_last=True,gpt_config=gpt_config)\n",
        "test_dataloader=create_dataloader(test_data,tokenizer,batch_size=2,drop_last=True,gpt_config=gpt_config)"
      ],
      "metadata": {
        "id": "WpIFX5C2qD4N"
      },
      "execution_count": 37,
      "outputs": []
    },
    {
      "cell_type": "code",
      "source": [
        "#Masked Multi Head Attention\n",
        "class MultiHeadAttention(nn.Module):\n",
        "    def __init__(self, d_in, d_out, context_length, dropout, num_heads, qkv_bias=False):\n",
        "        super().__init__()\n",
        "        assert (d_out % num_heads == 0), \\\n",
        "            \"d_out must be divisible by num_heads\"\n",
        "\n",
        "        self.d_out = d_out\n",
        "        self.num_heads = num_heads\n",
        "        self.head_dim = d_out // num_heads # Reduce the projection dim to match desired output dim\n",
        "\n",
        "        self.W_query = nn.Linear(d_in, d_out, bias=qkv_bias)\n",
        "        self.W_key = nn.Linear(d_in, d_out, bias=qkv_bias)\n",
        "        self.W_value = nn.Linear(d_in, d_out, bias=qkv_bias)\n",
        "        self.out_proj = nn.Linear(d_out, d_out)  # Linear layer to combine head outputs\n",
        "        self.dropout = nn.Dropout(dropout)\n",
        "        self.register_buffer(\n",
        "            \"mask\",\n",
        "            torch.triu(torch.ones(context_length, context_length),\n",
        "                       diagonal=1)\n",
        "        )\n",
        "\n",
        "    def forward(self, x):\n",
        "        b, num_tokens, d_in = x.shape\n",
        "\n",
        "        keys = self.W_key(x) # Shape: (b, num_tokens, d_out)\n",
        "        queries = self.W_query(x)\n",
        "        values = self.W_value(x)\n",
        "\n",
        "        # We implicitly split the matrix by adding a `num_heads` dimension\n",
        "        # Unroll last dim: (b, num_tokens, d_out) -> (b, num_tokens, num_heads, head_dim)\n",
        "        keys = keys.view(b, num_tokens, self.num_heads, self.head_dim)\n",
        "        values = values.view(b, num_tokens, self.num_heads, self.head_dim)\n",
        "        queries = queries.view(b, num_tokens, self.num_heads, self.head_dim)\n",
        "\n",
        "        # Transpose: (b, num_tokens, num_heads, head_dim) -> (b, num_heads, num_tokens, head_dim)\n",
        "        keys = keys.transpose(1, 2)\n",
        "        queries = queries.transpose(1, 2)\n",
        "        values = values.transpose(1, 2)\n",
        "\n",
        "        # Compute scaled dot-product attention (aka self-attention) with a causal mask\n",
        "        attn_scores = queries @ keys.transpose(2, 3)  # Dot product for each head\n",
        "\n",
        "        # Original mask truncated to the number of tokens and converted to boolean\n",
        "        mask_bool = self.mask.bool()[:num_tokens, :num_tokens]\n",
        "\n",
        "        # Use the mask to fill attention scores\n",
        "        attn_scores.masked_fill_(mask_bool, -torch.inf)\n",
        "\n",
        "        attn_weights = torch.softmax(attn_scores / keys.shape[-1]**0.5, dim=-1)\n",
        "        attn_weights = self.dropout(attn_weights)\n",
        "\n",
        "        # Shape: (b, num_tokens, num_heads, head_dim)\n",
        "        context_vec = (attn_weights @ values).transpose(1, 2)\n",
        "\n",
        "        # Combine heads, where self.d_out = self.num_heads * self.head_dim\n",
        "        context_vec = context_vec.contiguous().view(b, num_tokens, self.d_out)\n",
        "        context_vec = self.out_proj(context_vec) # optional projection\n",
        "\n",
        "        return context_vec"
      ],
      "metadata": {
        "id": "Usf5yglcrAAu"
      },
      "execution_count": 38,
      "outputs": []
    },
    {
      "cell_type": "code",
      "source": [
        "#Layer Normalization\n",
        "class LayerNorm(nn.Module):\n",
        "  def __init__(self,emb_dim):\n",
        "    super().__init__()\n",
        "    self.epis=1e-5\n",
        "    self.scale=nn.Parameter(torch.ones(emb_dim))\n",
        "    self.shift=nn.Parameter(torch.zeros(emb_dim))\n",
        "\n",
        "  def forward(self,X):\n",
        "\n",
        "    self.mean=X.mean(dim=-1,keepdim=True)\n",
        "    self.variance=X.var(dim=-1,keepdim=True,unbiased=True)\n",
        "    norm_x=(X-self.mean)/torch.sqrt(self.variance+self.epis)\n",
        "\n",
        "    return self.scale*norm_x+self.shift"
      ],
      "metadata": {
        "id": "CRGNsaYWrERE"
      },
      "execution_count": 39,
      "outputs": []
    },
    {
      "cell_type": "code",
      "source": [
        "#Gelu activation\n",
        "class GeLu(nn.Module):\n",
        "\n",
        "  def __init__(self):\n",
        "    super().__init__()\n",
        "\n",
        "  def forward(self,x):\n",
        "    return 0.5*x*(1+torch.tanh((torch.sqrt(torch.tensor(2/torch.pi))*(x+0.044715*(x**3)))))"
      ],
      "metadata": {
        "id": "Nbd97f2jrWK6"
      },
      "execution_count": 40,
      "outputs": []
    },
    {
      "cell_type": "code",
      "source": [
        "# feed forward network\n",
        "Gelu=GeLu()\n",
        "class FeedForwardNetwork(nn.Module):\n",
        "  def __init__(self,dim):\n",
        "    super().__init__()\n",
        "    self.network=nn.Sequential(\n",
        "        nn.Linear(dim,4*dim),\n",
        "        Gelu,\n",
        "        nn.Linear(4*dim,dim)\n",
        "    )\n",
        "\n",
        "  def forward(self,X):\n",
        "\n",
        "    return self.network(X)"
      ],
      "metadata": {
        "id": "IBiCXPL7rLcI"
      },
      "execution_count": 41,
      "outputs": []
    },
    {
      "cell_type": "code",
      "source": [
        "#transformer block\n",
        "class TransfomerBlock(nn.Module):\n",
        "  def __init__(self,cfg):\n",
        "    super().__init__()\n",
        "\n",
        "    self.attention= MultiHeadAttention(\n",
        "            d_in=cfg[\"emb_dim\"],\n",
        "            d_out=cfg[\"emb_dim\"],\n",
        "            context_length=cfg[\"context_length\"],\n",
        "            num_heads=cfg[\"num_heads\"],\n",
        "            dropout=cfg[\"dropout_rate\"],\n",
        "            qkv_bias=cfg[\"qkv_bias\"])\n",
        "\n",
        "    self.feedForwardNetwork=FeedForwardNetwork(cfg[\"emb_dim\"])\n",
        "    self.dropout=nn.Dropout(cfg[\"dropout_rate\"])\n",
        "    self.layernorm1=LayerNorm(cfg[\"emb_dim\"])\n",
        "    self.layernorm2=LayerNorm(cfg[\"emb_dim\"])\n",
        "\n",
        "  def forward(self,X):\n",
        "    shortcut=X\n",
        "    X=self.layernorm1(X)\n",
        "    X=self.attention(X)\n",
        "    X=self.dropout(X)\n",
        "    X=X+shortcut\n",
        "    shortcut=X\n",
        "    X=self.layernorm2(X)\n",
        "    X=self.feedForwardNetwork(X)\n",
        "    X=self.dropout(X)\n",
        "    X=X+shortcut\n",
        "\n",
        "    return X"
      ],
      "metadata": {
        "id": "Zukc04L8qp4J"
      },
      "execution_count": 42,
      "outputs": []
    },
    {
      "cell_type": "code",
      "source": [
        "#GPT model architecture\n",
        "class GPTmodel(nn.Module):\n",
        "\n",
        "  def __init__(self,cfg):\n",
        "    super().__init__()\n",
        "    self.token_emb=nn.Embedding(cfg[\"vocab_size\"],cfg[\"emb_dim\"])\n",
        "    self.pos_emb=nn.Embedding(cfg[\"context_length\"],cfg[\"emb_dim\"])\n",
        "    self.dropout=nn.Dropout(cfg[\"dropout_rate\"])\n",
        "    self.final_norm=LayerNorm(cfg[\"emb_dim\"])\n",
        "    self.final_output=nn.Linear(cfg[\"emb_dim\"],cfg[\"vocab_size\"])\n",
        "    self.transformer_blocks=nn.Sequential(*[TransfomerBlock(cfg) for _ in range(cfg[\"layers\"])])\n",
        "\n",
        "  def forward(self,X):\n",
        "\n",
        "        batch_size,seq_length=X.shape\n",
        "        token_emb=self.token_emb(X)\n",
        "        pos_emb=self.pos_emb(torch.arange(seq_length, device=X.device))\n",
        "        token_emb=token_emb+pos_emb\n",
        "        X=self.dropout(token_emb)\n",
        "        X=self.transformer_blocks(X)\n",
        "\n",
        "        X=self.final_norm(X)\n",
        "        out=self.final_output(X)\n",
        "\n",
        "        return out"
      ],
      "metadata": {
        "id": "dsVPJfDQrkBN"
      },
      "execution_count": 43,
      "outputs": []
    },
    {
      "cell_type": "code",
      "source": [
        "def next_word_prediction(input,model,max_outputs,context_length):\n",
        "\n",
        "  for i in range(0,max_outputs):\n",
        "    inp=input[:,-context_length]\n",
        "\n",
        "    with torch.no_grad():\n",
        "     out=model(input)\n",
        "\n",
        "    logits=out[:,-1,:]\n",
        "\n",
        "    prob=torch.softmax(logits,dim=-1)\n",
        "\n",
        "    max_prob=torch.argmax(prob,dim=-1,keepdim=True)\n",
        "    input=torch.cat((input,max_prob),dim=-1)\n",
        "\n",
        "  return input\n"
      ],
      "metadata": {
        "id": "suvEAX7yrt0V"
      },
      "execution_count": 44,
      "outputs": []
    },
    {
      "cell_type": "code",
      "source": [
        "#loss calculation\n",
        "def calc_loss_batch(model,input_batch,target_batch):\n",
        "\n",
        "  output=model(input_batch)\n",
        "  loss_fn = nn.CrossEntropyLoss()\n",
        "  loss = loss_fn(output.flatten(0,1), target_batch.flatten())\n",
        "  return loss"
      ],
      "metadata": {
        "id": "Sc8Op9Nhh5N0"
      },
      "execution_count": 45,
      "outputs": []
    },
    {
      "cell_type": "code",
      "source": [
        "#model training\n",
        "def model_train(model,train_dataloader,epochs,optimizer):\n",
        "\n",
        "    for i in range(0,epochs):\n",
        "      total_loss=0\n",
        "      model.train()\n",
        "      for input_batch,target_batch in train_dataloader:\n",
        "        optimizer.zero_grad()\n",
        "        loss=calc_loss_batch(input_batch=input_batch,target_batch=target_batch,model=model)\n",
        "        loss.backward()\n",
        "        total_loss+=loss.item()\n",
        "        optimizer.step()\n",
        "        print(f\"Epoch {i+1}, Loss: {total_loss/len(train_dataloader)}\")\n",
        "\n",
        "\n",
        "\n"
      ],
      "metadata": {
        "id": "eMJVqXi7jVMM"
      },
      "execution_count": 46,
      "outputs": []
    },
    {
      "cell_type": "code",
      "source": [
        "import torch.optim as optim"
      ],
      "metadata": {
        "id": "bS1n04LynIMT"
      },
      "execution_count": 47,
      "outputs": []
    },
    {
      "cell_type": "code",
      "source": [
        "#model features\n",
        "gpt_config = {\n",
        "    \"vocab_size\":50257,\n",
        "    \"emb_dim\":768,\n",
        "    \"num_heads\":12,\n",
        "    \"dropout_rate\":0.1,\n",
        "    \"qkv_bias\":False,\n",
        "    \"layers\":12,\n",
        "    \"context_length\":512,\n",
        "    \"stride\":128\n",
        "}\n",
        "epochs=25\n",
        "model=GPTmodel(gpt_config)\n",
        "optimizer=optim.AdamW(model.parameters(),lr=0.0004)\n",
        "\n",
        "model_train(model,train_dataloader,epochs,optimizer)"
      ],
      "metadata": {
        "colab": {
          "base_uri": "https://localhost:8080/"
        },
        "id": "PuEioO_ZmkFP",
        "outputId": "0ee8ffba-d453-4f8a-82bb-78dcbe2c81f9"
      },
      "execution_count": null,
      "outputs": [
        {
          "output_type": "stream",
          "name": "stdout",
          "text": [
            "Epoch 1, Loss: 0.6108291943868002\n",
            "Epoch 1, Loss: 1.1621811654832628\n",
            "Epoch 1, Loss: 1.6744597752888997\n",
            "Epoch 1, Loss: 2.180586655934652\n",
            "Epoch 1, Loss: 2.6730238596598306\n",
            "Epoch 1, Loss: 3.1307675573560925\n",
            "Epoch 1, Loss: 3.56172874238756\n",
            "Epoch 1, Loss: 3.99062532848782\n",
            "Epoch 1, Loss: 4.399868382347955\n",
            "Epoch 1, Loss: 4.784520228703816\n",
            "Epoch 1, Loss: 5.168449666765001\n",
            "Epoch 1, Loss: 5.548922432793511\n",
            "Epoch 1, Loss: 5.889835887485081\n",
            "Epoch 1, Loss: 6.232255670759413\n",
            "Epoch 1, Loss: 6.588652743233575\n",
            "Epoch 1, Loss: 6.92331698205736\n",
            "Epoch 1, Loss: 7.262041939629449\n"
          ]
        }
      ]
    },
    {
      "cell_type": "code",
      "source": [
        "def model_evaluation(model,test_dataloader):\n",
        "  model.eval()\n",
        "\n",
        "  for input_batch,target_batch in test_dataloader:\n",
        "    with torch.no_grad():\n",
        "      loss=calc_loss_batch(input_batch,target_batch,model)\n",
        "      print(loss)\n",
        "\n",
        "  model_train()"
      ],
      "metadata": {
        "id": "ZR2BdalSqSb6"
      },
      "execution_count": null,
      "outputs": []
    },
    {
      "cell_type": "code",
      "source": [
        "#apply tokenization before these to you sentence\n",
        "def next_word_prediction(model,number_outputs,context_size,input):\n",
        "\n",
        "  for i in range(0,number_outputs):\n",
        "    inp=input[:,-context_size:]\n",
        "\n",
        "    output=model(inp)\n",
        "    logits=inp[:,-1,:]\n",
        "    max_prob=torch.argmax(logits,dim=-1)\n",
        "    input=torch.cat((input,max_prob),dim=-1)\n",
        "  return input\n",
        "#apply tokenization to decode the sentences"
      ],
      "metadata": {
        "id": "zt78pDBmqijl"
      },
      "execution_count": null,
      "outputs": []
    }
  ]
}