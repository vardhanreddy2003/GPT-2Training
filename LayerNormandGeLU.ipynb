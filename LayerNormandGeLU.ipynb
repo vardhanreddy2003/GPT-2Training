{
  "nbformat": 4,
  "nbformat_minor": 0,
  "metadata": {
    "colab": {
      "provenance": [],
      "authorship_tag": "ABX9TyNGSpEUDLvpjW+oUQGiocvN",
      "include_colab_link": true
    },
    "kernelspec": {
      "name": "python3",
      "display_name": "Python 3"
    },
    "language_info": {
      "name": "python"
    }
  },
  "cells": [
    {
      "cell_type": "markdown",
      "metadata": {
        "id": "view-in-github",
        "colab_type": "text"
      },
      "source": [
        "<a href=\"https://colab.research.google.com/github/vardhanreddy2003/GPT-2Training/blob/main/LayerNormandGeLU.ipynb\" target=\"_parent\"><img src=\"https://colab.research.google.com/assets/colab-badge.svg\" alt=\"Open In Colab\"/></a>"
      ]
    },
    {
      "cell_type": "code",
      "execution_count": 1,
      "metadata": {
        "id": "sYFHOeBiPLw7"
      },
      "outputs": [],
      "source": [
        "import torch"
      ]
    },
    {
      "cell_type": "code",
      "source": [
        "import torch.nn as nn"
      ],
      "metadata": {
        "id": "jwQ0dwRvRPd_"
      },
      "execution_count": 2,
      "outputs": []
    },
    {
      "cell_type": "code",
      "source": [
        "class LayerNorm(nn.Module):\n",
        "  def __init__(self,emb_dim):\n",
        "    super().__init__()\n",
        "    self.eps=1e-5\n",
        "    self.scale=nn.Parameter(torch.ones(emb_dim))\n",
        "    self.shift=nn.Parameter(torch.zeros(emb_dim))\n",
        "\n",
        "  def forward(self,x):\n",
        "    mean=x.mean(dim=-1,keepdim=True)\n",
        "    variance=x.vairance(dim=-1,keepdim=True)\n",
        "    norm_x=(x-mean)/torch.sqrt(variance+self.eps)\n",
        "    return self.scale*norm_x+self.shift\n"
      ],
      "metadata": {
        "id": "zSHNplHVPQEc"
      },
      "execution_count": 3,
      "outputs": []
    },
    {
      "cell_type": "code",
      "source": [
        "class GELU(nn.Module):\n",
        "  def __init__(self):\n",
        "     super().__init__()\n",
        "\n",
        "  def forward(self,x):\n",
        "\n",
        "    return 0.5*x*(1+torch.tanh(torch.sqrt(2.0/torch/pi))*(x+0.044715*torch.pow(x,3)))\n",
        "\n",
        "\n"
      ],
      "metadata": {
        "id": "H5b4OGyKPU--"
      },
      "execution_count": 5,
      "outputs": []
    }
  ]
}