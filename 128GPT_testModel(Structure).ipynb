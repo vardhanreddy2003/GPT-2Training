{
  "nbformat": 4,
  "nbformat_minor": 0,
  "metadata": {
    "colab": {
      "provenance": [],
      "authorship_tag": "ABX9TyOWLuzspFZ0S1rFb3PyH7Iu",
      "include_colab_link": true
    },
    "kernelspec": {
      "name": "python3",
      "display_name": "Python 3"
    },
    "language_info": {
      "name": "python"
    }
  },
  "cells": [
    {
      "cell_type": "markdown",
      "metadata": {
        "id": "view-in-github",
        "colab_type": "text"
      },
      "source": [
        "<a href=\"https://colab.research.google.com/github/vardhanreddy2003/GPT-2Training/blob/main/128GPT_testModel(Structure).ipynb\" target=\"_parent\"><img src=\"https://colab.research.google.com/assets/colab-badge.svg\" alt=\"Open In Colab\"/></a>"
      ]
    },
    {
      "cell_type": "code",
      "execution_count": 117,
      "metadata": {
        "id": "k3P4c_k9NSgR"
      },
      "outputs": [],
      "source": [
        "import torch\n",
        "import torch.nn as nn"
      ]
    },
    {
      "cell_type": "code",
      "source": [
        "class GeLu(nn.Module):\n",
        "\n",
        "  def __init__(self):\n",
        "    super().__init__()\n",
        "\n",
        "  def forward(self,x):\n",
        "    return 0.5*x*(1+torch.tanh((torch.sqrt(torch.tensor(2/torch.pi))*(x+0.044715*(x**3)))))"
      ],
      "metadata": {
        "id": "mPxgn3caOgD0"
      },
      "execution_count": 118,
      "outputs": []
    },
    {
      "cell_type": "code",
      "source": [
        "Gelu=GeLu()\n",
        "class FeedForwardNetwork(nn.Module):\n",
        "  def __init__(self,dim):\n",
        "    super().__init__()\n",
        "    self.network=nn.Sequential(\n",
        "        nn.Linear(dim,4*dim),\n",
        "        Gelu,\n",
        "        nn.Linear(4*dim,dim)\n",
        "    )\n",
        "\n",
        "  def forward(self,X):\n",
        "\n",
        "    return self.network(X)"
      ],
      "metadata": {
        "id": "8jixK3l5N050"
      },
      "execution_count": 119,
      "outputs": []
    },
    {
      "cell_type": "code",
      "source": [
        "class LayerNorm(nn.Module):\n",
        "  def __init__(self,emb_dim):\n",
        "    super().__init__()\n",
        "    self.epis=1e-5\n",
        "    self.scale=nn.Parameter(torch.ones(emb_dim))\n",
        "    self.shift=nn.Parameter(torch.zeros(emb_dim))\n",
        "\n",
        "  def forward(self,X):\n",
        "\n",
        "    self.mean=X.mean(dim=-1,keepdim=True)\n",
        "    self.variance=X.var(dim=-1,keepdim=True,unbiased=True)\n",
        "    norm_x=(X-self.mean)/torch.sqrt(self.variance+self.epis)\n",
        "\n",
        "    return self.scale*norm_x+self.shift"
      ],
      "metadata": {
        "id": "Fmk4vCZzRjv-"
      },
      "execution_count": 120,
      "outputs": []
    },
    {
      "cell_type": "code",
      "source": [
        "class MultiHeadAttention(nn.Module):\n",
        "    def __init__(self, d_in, d_out, context_length, dropout, num_heads, qkv_bias=False):\n",
        "        super().__init__()\n",
        "        assert (d_out % num_heads == 0), \\\n",
        "            \"d_out must be divisible by num_heads\"\n",
        "\n",
        "        self.d_out = d_out\n",
        "        self.num_heads = num_heads\n",
        "        self.head_dim = d_out // num_heads # Reduce the projection dim to match desired output dim\n",
        "\n",
        "        self.W_query = nn.Linear(d_in, d_out, bias=qkv_bias)\n",
        "        self.W_key = nn.Linear(d_in, d_out, bias=qkv_bias)\n",
        "        self.W_value = nn.Linear(d_in, d_out, bias=qkv_bias)\n",
        "        self.out_proj = nn.Linear(d_out, d_out)  # Linear layer to combine head outputs\n",
        "        self.dropout = nn.Dropout(dropout)\n",
        "        self.register_buffer(\n",
        "            \"mask\",\n",
        "            torch.triu(torch.ones(context_length, context_length),\n",
        "                       diagonal=1)\n",
        "        )\n",
        "\n",
        "    def forward(self, x):\n",
        "        b, num_tokens, d_in = x.shape\n",
        "\n",
        "        keys = self.W_key(x) # Shape: (b, num_tokens, d_out)\n",
        "        queries = self.W_query(x)\n",
        "        values = self.W_value(x)\n",
        "\n",
        "        # We implicitly split the matrix by adding a `num_heads` dimension\n",
        "        # Unroll last dim: (b, num_tokens, d_out) -> (b, num_tokens, num_heads, head_dim)\n",
        "        keys = keys.view(b, num_tokens, self.num_heads, self.head_dim)\n",
        "        values = values.view(b, num_tokens, self.num_heads, self.head_dim)\n",
        "        queries = queries.view(b, num_tokens, self.num_heads, self.head_dim)\n",
        "\n",
        "        # Transpose: (b, num_tokens, num_heads, head_dim) -> (b, num_heads, num_tokens, head_dim)\n",
        "        keys = keys.transpose(1, 2)\n",
        "        queries = queries.transpose(1, 2)\n",
        "        values = values.transpose(1, 2)\n",
        "\n",
        "        # Compute scaled dot-product attention (aka self-attention) with a causal mask\n",
        "        attn_scores = queries @ keys.transpose(2, 3)  # Dot product for each head\n",
        "\n",
        "        # Original mask truncated to the number of tokens and converted to boolean\n",
        "        mask_bool = self.mask.bool()[:num_tokens, :num_tokens]\n",
        "\n",
        "        # Use the mask to fill attention scores\n",
        "        attn_scores.masked_fill_(mask_bool, -torch.inf)\n",
        "\n",
        "        attn_weights = torch.softmax(attn_scores / keys.shape[-1]**0.5, dim=-1)\n",
        "        attn_weights = self.dropout(attn_weights)\n",
        "\n",
        "        # Shape: (b, num_tokens, num_heads, head_dim)\n",
        "        context_vec = (attn_weights @ values).transpose(1, 2)\n",
        "\n",
        "        # Combine heads, where self.d_out = self.num_heads * self.head_dim\n",
        "        context_vec = context_vec.contiguous().view(b, num_tokens, self.d_out)\n",
        "        context_vec = self.out_proj(context_vec) # optional projection\n",
        "\n",
        "        return context_vec"
      ],
      "metadata": {
        "id": "jujOfm5ES_Zs"
      },
      "execution_count": 121,
      "outputs": []
    },
    {
      "cell_type": "code",
      "source": [
        "gpt_config = {\n",
        "    \"vocab_size\":50257,\n",
        "    \"emb_dim\":768,\n",
        "    \"num_heads\":12,\n",
        "    \"dropout_rate\":0.1,\n",
        "    \"qkv_bias\":False,\n",
        "    \"layers\":12,\n",
        "    \"context_length\":1024\n",
        "}"
      ],
      "metadata": {
        "id": "1qKjK_MOTM09"
      },
      "execution_count": 122,
      "outputs": []
    },
    {
      "cell_type": "code",
      "source": [
        "class TransfomerBlock(nn.Module):\n",
        "  def __init__(self,cfg):\n",
        "    super().__init__()\n",
        "\n",
        "    self.attention= MultiHeadAttention(\n",
        "            d_in=cfg[\"emb_dim\"],\n",
        "            d_out=cfg[\"emb_dim\"],\n",
        "            context_length=cfg[\"context_length\"],\n",
        "            num_heads=cfg[\"num_heads\"],\n",
        "            dropout=cfg[\"dropout_rate\"],\n",
        "            qkv_bias=cfg[\"qkv_bias\"])\n",
        "\n",
        "    self.feedForwardNetwork=FeedForwardNetwork(cfg[\"emb_dim\"])\n",
        "    self.dropout=nn.Dropout(cfg[\"dropout_rate\"])\n",
        "    self.layernorm1=LayerNorm(cfg[\"emb_dim\"])\n",
        "    self.layernorm2=LayerNorm(cfg[\"emb_dim\"])\n",
        "\n",
        "  def forward(self,X):\n",
        "    shortcut=X\n",
        "    X=self.layernorm1(X)\n",
        "    X=self.attention(X)\n",
        "    X=self.dropout(X)\n",
        "    X=X+shortcut\n",
        "    shortcut=X\n",
        "    X=self.layernorm2(X)\n",
        "    X=self.feedForwardNetwork(X)\n",
        "    X=self.dropout(X)\n",
        "    X=X+shortcut\n",
        "\n",
        "    return X"
      ],
      "metadata": {
        "id": "1NM_awQgTPbj"
      },
      "execution_count": 123,
      "outputs": []
    },
    {
      "cell_type": "code",
      "source": [
        "a=[0,1,2,3,4]"
      ],
      "metadata": {
        "id": "_0E25OlWd_jr"
      },
      "execution_count": 124,
      "outputs": []
    },
    {
      "cell_type": "code",
      "source": [
        "for i in range(0,5):\n",
        "  print(a[i])"
      ],
      "metadata": {
        "colab": {
          "base_uri": "https://localhost:8080/"
        },
        "id": "sNDlA4-dd0ZQ",
        "outputId": "83b5a698-60cb-45da-d52c-71b08f356813"
      },
      "execution_count": 125,
      "outputs": [
        {
          "output_type": "stream",
          "name": "stdout",
          "text": [
            "0\n",
            "1\n",
            "2\n",
            "3\n",
            "4\n"
          ]
        }
      ]
    },
    {
      "cell_type": "code",
      "source": [
        "class GPTmodel(nn.Module):\n",
        "\n",
        "  def __init__(self,cfg):\n",
        "    super().__init__()\n",
        "    self.token_emb=nn.Embedding(cfg[\"vocab_size\"],cfg[\"emb_dim\"])\n",
        "    self.pos_emb=nn.Embedding(cfg[\"context_length\"],cfg[\"emb_dim\"])\n",
        "    self.dropout=nn.Dropout(cfg[\"dropout_rate\"])\n",
        "    self.final_norm=LayerNorm(cfg[\"emb_dim\"])\n",
        "    self.final_output=nn.Linear(cfg[\"emb_dim\"],cfg[\"vocab_size\"])\n",
        "    self.transformer_blocks=nn.Sequential(*[TransfomerBlock(cfg) for _ in range(cfg[\"layers\"])])\n",
        "\n",
        "  def forward(self,X):\n",
        "      for i in range(0,len(X)):\n",
        "        batch_size,seq_length=X.shape\n",
        "        token_emb=self.token_emb(X)\n",
        "        pos_emb=self.pos_emb(torch.arange(seq_length, device=X.device))\n",
        "        token_emb=token_emb+pos_emb\n",
        "        X=self.dropout(token_emb)\n",
        "        #transformer block\n",
        "\n",
        "        X=self.final_norm(X)\n",
        "        out=self.final_output(X)\n",
        "        return out"
      ],
      "metadata": {
        "id": "wuVM9SxKXOIE"
      },
      "execution_count": 126,
      "outputs": []
    },
    {
      "cell_type": "code",
      "source": [
        "batch=torch.tensor([[6109, 3626, 6100,  345],\n",
        "        [6109, 1110, 6622,  257]])"
      ],
      "metadata": {
        "id": "ztMReTw_iBw-"
      },
      "execution_count": 127,
      "outputs": []
    },
    {
      "cell_type": "code",
      "source": [
        "torch.manual_seed(123)\n",
        "model = GPTmodel(gpt_config)\n",
        "out = model(batch)\n",
        "print(\"Input batch:\\n\", batch)\n",
        "print(\"\\nOutput shape:\", out.shape)\n",
        "print(out)"
      ],
      "metadata": {
        "colab": {
          "base_uri": "https://localhost:8080/"
        },
        "id": "tqAEI3Zvh7R3",
        "outputId": "a83cc163-3807-4061-cc8a-9e87e1c7fa3f"
      },
      "execution_count": 128,
      "outputs": [
        {
          "output_type": "stream",
          "name": "stdout",
          "text": [
            "Input batch:\n",
            " tensor([[6109, 3626, 6100,  345],\n",
            "        [6109, 1110, 6622,  257]])\n",
            "\n",
            "Output shape: torch.Size([2, 4, 50257])\n",
            "tensor([[[-8.3109e-01,  2.6527e-02, -8.0718e-01,  ..., -9.0306e-01,\n",
            "          -2.5913e-01, -1.8973e-01],\n",
            "         [ 1.3201e-01,  1.5231e-01, -3.5482e-01,  ..., -1.8054e-01,\n",
            "           9.6092e-01,  4.1698e-01],\n",
            "         [ 2.1863e-01,  1.1403e+00, -4.0362e-01,  ...,  1.0297e+00,\n",
            "          -1.5754e-01,  3.6924e-01],\n",
            "         [ 5.2411e-01,  1.1513e+00, -4.3765e-01,  ...,  4.8582e-01,\n",
            "           2.8523e-01, -6.6840e-01]],\n",
            "\n",
            "        [[-1.1027e+00, -1.7491e-02, -1.6026e-01,  ..., -8.6231e-01,\n",
            "           3.0753e-02, -3.2339e-02],\n",
            "         [-2.9952e-01,  4.1240e-01, -8.3775e-04,  ...,  1.1332e-02,\n",
            "           1.6760e-01,  8.5637e-01],\n",
            "         [ 4.1789e-01,  5.8615e-01, -1.6942e-01,  ..., -8.1877e-02,\n",
            "           1.8657e-01,  4.3974e-01],\n",
            "         [ 2.0327e-01, -8.7712e-01,  1.3883e-01,  ...,  1.3204e+00,\n",
            "          -1.7665e-01, -1.6840e-01]]], grad_fn=<ViewBackward0>)\n"
          ]
        }
      ]
    }
  ]
}